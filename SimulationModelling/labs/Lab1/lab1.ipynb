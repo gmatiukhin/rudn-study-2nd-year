{
 "cells": [
  {
   "cell_type": "markdown",
   "id": "93f0439e",
   "metadata": {},
   "source": [
    "# Лабораторная работа №1\n",
    "## Выполнил: Матюхин Григорий (НПИбд-01-21)"
   ]
  },
  {
   "cell_type": "code",
   "execution_count": 1,
   "id": "dbd6aa39",
   "metadata": {},
   "outputs": [],
   "source": [
    "import numpy as np\n",
    "from numpy import random\n",
    "import copy\n",
    "import functools"
   ]
  },
  {
   "cell_type": "markdown",
   "id": "31cbcfe7",
   "metadata": {},
   "source": [
    "### Задача 1.\n",
    "Задача Чему равна вероятность того, что случайный треугольник, нарисованный внутри квадрата со стороной 1, является тупоугольным?"
   ]
  },
  {
   "cell_type": "code",
   "execution_count": 2,
   "id": "fd73b41d",
   "metadata": {},
   "outputs": [
    {
     "name": "stdout",
     "output_type": "stream",
     "text": [
      "0.72396\n"
     ]
    }
   ],
   "source": [
    "def unit_vector(vector):\n",
    "    return vector / np.linalg.norm(vector)\n",
    "\n",
    "def angle_between(v1, v2):\n",
    "    \"\"\"calculate angle between two vectors with the same origin\"\"\"\n",
    "    v1_u = unit_vector(v1)\n",
    "    v2_u = unit_vector(v2)\n",
    "    return np.arccos(np.dot(v1_u, v2_u))\n",
    "\n",
    "def is_scalene(triangle):\n",
    "    for i in range(len(triangle)):\n",
    "        trig = copy.deepcopy(triangle)\n",
    "        origin = trig[i]\n",
    "        side1 = trig[i - 1]\n",
    "        side2 = trig[(i + 1) % len(triangle)]\n",
    "\n",
    "        # Move vectors to origin\n",
    "        side1 -= origin\n",
    "        side2 -= origin\n",
    "\n",
    "        angle = angle_between(side1, side2)\n",
    "\n",
    "        if angle > np.pi/2:\n",
    "            return True\n",
    "    return False\n",
    "\n",
    "iters = 100000\n",
    "count = 0\n",
    "\n",
    "for _ in range(iters):\n",
    "    # Generate a triangle\n",
    "    triangle = []\n",
    "    for _ in range(3):\n",
    "        x = random.uniform(0, 1)\n",
    "        y = random.uniform(0, 1)\n",
    "        triangle.append(np.array([x, y]))\n",
    "    if is_scalene(triangle):\n",
    "        count += 1\n",
    "print(count / iters)\n"
   ]
  },
  {
   "cell_type": "markdown",
   "id": "2201bcaa",
   "metadata": {},
   "source": [
    "### Задача 2.\n",
    "Чему равна вероятность того, что случайный треугольник, нарисованный внутри прямоугольника, у которого одна сторона в 2 раза длиннее другой, является тупоугольным?"
   ]
  },
  {
   "cell_type": "code",
   "execution_count": 3,
   "id": "2a25775f",
   "metadata": {},
   "outputs": [
    {
     "name": "stdout",
     "output_type": "stream",
     "text": [
      "0.7972\n"
     ]
    }
   ],
   "source": [
    "count = 0\n",
    "\n",
    "for _ in range(iters):\n",
    "    # Generate a triangle\n",
    "    triangle = []\n",
    "    for _ in range(3):\n",
    "        x = random.uniform(0, 2)\n",
    "        y = random.uniform(0, 1)\n",
    "        triangle.append(np.array([x, y]))\n",
    "    if is_scalene(triangle):\n",
    "        count += 1\n",
    "print(count / iters)"
   ]
  },
  {
   "cell_type": "markdown",
   "id": "9dc5823d",
   "metadata": {},
   "source": [
    "### Задача 3.\n",
    "Пусть `a`, `b` и `c` – независимые случайные величины, распределенные равномерно на `[0,1]`. Рассмотрим квадратное уравнение `a*x2+b *x+c=0`. Чему равна вероятность того, что его решения – действительные числа?"
   ]
  },
  {
   "cell_type": "code",
   "execution_count": 4,
   "id": "76e8080f",
   "metadata": {},
   "outputs": [
    {
     "name": "stdout",
     "output_type": "stream",
     "text": [
      "0.25426\n"
     ]
    }
   ],
   "source": [
    "count = 0\n",
    "\n",
    "for _ in range(iters):\n",
    "    a = random.uniform(0,1)\n",
    "    b = random.uniform(0,1)\n",
    "    c = random.uniform(0,1)\n",
    "    D = b**2 - 4 * a * c\n",
    "    if D >= 0:\n",
    "        count += 1\n",
    "print(count/iters)"
   ]
  },
  {
   "cell_type": "markdown",
   "id": "75034190",
   "metadata": {},
   "source": [
    "### Задача 4.\n",
    "В самолете 220 мест, и все билеты проданы пассажирам. Первым в самолет заходит рассеянный учёный и, не посмотрев на билет, занимает первое попавшееся место. Далее пассажиры входят по одному. Если вошедший видит, что его место свободно, он занимает свое место. Если же место занято, то вошедший занимает первое попавшееся свободное место. Найдите вероятность того, что пассажир, вошедший последним, займет место согласно своему билету."
   ]
  },
  {
   "cell_type": "code",
   "execution_count": 5,
   "id": "764df614",
   "metadata": {},
   "outputs": [
    {
     "name": "stdout",
     "output_type": "stream",
     "text": [
      "0.50059\n"
     ]
    }
   ],
   "source": [
    "count = 0\n",
    "\n",
    "for _ in range(iters):\n",
    "    passengers = 220\n",
    "\n",
    "    seats = [x for x in range(passengers)]\n",
    "    # assign tickets randomly\n",
    "    tickets = [x for x in range(passengers)]\n",
    "    random.shuffle(tickets)\n",
    "\n",
    "    # scientist\n",
    "    tickets.pop()\n",
    "    del seats[random.randint(passengers)]\n",
    "\n",
    "    while len(seats) != 1:\n",
    "        ticket = tickets.pop()\n",
    "        if ticket in seats:\n",
    "            seats.remove(ticket)\n",
    "        else:\n",
    "            choice = random.choice(seats)\n",
    "            seats.remove(choice)\n",
    "\n",
    "    last = tickets.pop()\n",
    "    if last in seats:\n",
    "        count += 1\n",
    "        \n",
    "print(count/iters)"
   ]
  },
  {
   "cell_type": "markdown",
   "id": "efb3f482",
   "metadata": {},
   "source": [
    "### Задача 5.\n",
    "Диаметр круга имеет равномерное распределение на `[0,5]`. Чему равна средняя площадь круга?"
   ]
  },
  {
   "cell_type": "code",
   "execution_count": 6,
   "id": "f4188be7",
   "metadata": {},
   "outputs": [
    {
     "name": "stdout",
     "output_type": "stream",
     "text": [
      "6.561095802730174\n"
     ]
    }
   ],
   "source": [
    "avg_sum = 0\n",
    "\n",
    "for _ in range(iters):\n",
    "    # take radius and not diameter\n",
    "    r = random.uniform(0, 2.5)\n",
    "    area = np.pi * r ** 2\n",
    "    avg_sum += area\n",
    "\n",
    "print(avg_sum/iters)"
   ]
  },
  {
   "cell_type": "markdown",
   "id": "92d92a00",
   "metadata": {},
   "source": [
    "### Задача 6.\n",
    "Пусть `x(1)` выбирается наугад из интервала `(0,1)`. Далее `x(2)` выбирается наугад из интервала `(x(1),1)`. Далее `x(3)` выбирается наугад из интервала `(x(2),1)` и так далее, т.е. `x(n+1)` выбирается наугад из интервала `(x(n),1)`. Чему равно среднее значение произведения `x(1)x(2)...x(n)` если `n` велико?"
   ]
  },
  {
   "cell_type": "code",
   "execution_count": 7,
   "id": "c003dde3",
   "metadata": {},
   "outputs": [
    {
     "name": "stdout",
     "output_type": "stream",
     "text": [
      "0.36917225127760867\n"
     ]
    }
   ],
   "source": [
    "avg = 0\n",
    "\n",
    "for _ in range(iters):\n",
    "    n = 1000\n",
    "    prod = 1\n",
    "    l_bound = 0\n",
    "    for _ in range(n):\n",
    "        val = random.uniform(l_bound, 1)\n",
    "        l_bound = val\n",
    "        prod *= val\n",
    "    avg += prod\n",
    "\n",
    "print(avg/iters)"
   ]
  },
  {
   "cell_type": "markdown",
   "id": "2e2313cb",
   "metadata": {},
   "source": [
    "### Задача 7.\n",
    "В поселке 2500 жителей. Каждый из них примерно 6 раз в месяц ездит на поезде в город (т.е. с вероятностью 6/30), выбирая дни поездок по случайным мотивам независимо от остальных. Поезд ходит один раз в сутки. Какой наименьшей вместимостью должен обладать поезд, чтобы он переполнялся в среднем не чаще одного раза в 100 дней (т.е. с вероятностью 1\\100)?"
   ]
  },
  {
   "cell_type": "code",
   "execution_count": 8,
   "id": "cfe9cb6a",
   "metadata": {},
   "outputs": [
    {
     "name": "stdout",
     "output_type": "stream",
     "text": [
      "547\n"
     ]
    }
   ],
   "source": [
    "people = 2500\n",
    "trip_prob = 0.2\n",
    "desired_overload_ratio = 0.01\n",
    "current_overload_ratio = 1\n",
    "current_train_cap = 0\n",
    "rng = np.random.default_rng()\n",
    "\n",
    "while current_overload_ratio >= desired_overload_ratio:\n",
    "    current_overload_ratio = sum(rng.binomial(people, trip_prob, iters) > current_train_cap)/iters\n",
    "    current_train_cap += 1\n",
    "print(current_train_cap)"
   ]
  },
  {
   "cell_type": "markdown",
   "id": "09272aa6",
   "metadata": {},
   "source": [
    "### Задача 8.\n",
    "В зале кинотеатра `N` мест и все `N` билетов были распроданы. Когда посетители пришли в зал, свет в зале не работал (номера мест не видны) и каждому пришлось выбирать себе место наугад. Чему равна вероятность того, что все `N` посетителей сели мимо своих мест (указанных в билете)?\n",
    "Взять `N=5,50,100`."
   ]
  },
  {
   "cell_type": "code",
   "execution_count": 9,
   "id": "7ab1507f",
   "metadata": {},
   "outputs": [
    {
     "name": "stdout",
     "output_type": "stream",
     "text": [
      "With 5 seats probability for all visitors to get a random seat is 0.3668\n",
      "None\n",
      "With 50 seats probability for all visitors to get a random seat is 0.3698\n",
      "None\n",
      "With 500 seats probability for all visitors to get a random seat is 0.36595\n",
      "None\n"
     ]
    }
   ],
   "source": [
    "def solve_for_n(N):\n",
    "    \n",
    "    random_cases = 0\n",
    "    for _ in range(iters):\n",
    "        seats = [x for x in range(N)]\n",
    "        random.shuffle(seats)\n",
    "        # assign tickets randomly\n",
    "        tickets = [x for x in range(N)]\n",
    "        random.shuffle(tickets)\n",
    "        \n",
    "        all_have_random_places = True\n",
    "        for _ in range(N):\n",
    "            ticket = tickets.pop()\n",
    "            seat = seats.pop()\n",
    "            if seat == ticket:\n",
    "                all_have_random_places = False\n",
    "                break\n",
    "                \n",
    "        random_cases += all_have_random_places\n",
    "    print(f\"With {N} seats probability for all visitors to get a random seat is {random_cases/iters}\")\n",
    "        \n",
    "        \n",
    "    \n",
    "\n",
    "print(solve_for_n(5))\n",
    "print(solve_for_n(50))\n",
    "print(solve_for_n(500))"
   ]
  },
  {
   "cell_type": "markdown",
   "id": "c2e19ed8",
   "metadata": {},
   "source": [
    "### Задача 9.\n",
    "На факультете работает 6 профессоров, 6 доцентов, 10 старших преподавателей и 12 ассистентов. Из работников факультета случайным образом формируется комитет из 6 участников. Чему равна вероятность того, что в комитет войдет по крайней мере один человек каждой должности?"
   ]
  },
  {
   "cell_type": "code",
   "execution_count": 10,
   "id": "ea0e6844",
   "metadata": {},
   "outputs": [
    {
     "name": "stdout",
     "output_type": "stream",
     "text": [
      "0.38114\n"
     ]
    }
   ],
   "source": [
    "cases = 0\n",
    "\n",
    "for _ in range(iters):\n",
    "    people = 6 * [0] + 6 * [1] + 10 * [2] + 12 * [3]\n",
    "    random.shuffle(people)\n",
    "    committee = people[:6]\n",
    "    \n",
    "    all_roles = True\n",
    "    for i in range(3 + 1):\n",
    "        all_roles &= i in committee\n",
    "    cases += all_roles\n",
    "\n",
    "print(cases/iters)"
   ]
  },
  {
   "cell_type": "markdown",
   "id": "b01cbcf4",
   "metadata": {},
   "source": [
    "### Задача 10.\n",
    "Чему равна вероятность того, что 4 случайно выбранные точки в данном выпуклом множестве являются вершинами вогнутого четырехугольника? В качестве выпуклого множества взять окружность."
   ]
  },
  {
   "cell_type": "code",
   "execution_count": 11,
   "id": "e698e313",
   "metadata": {},
   "outputs": [
    {
     "name": "stdout",
     "output_type": "stream",
     "text": [
      "0.2041\n"
     ]
    }
   ],
   "source": [
    "def random_point_in_circle(R):\n",
    "    \"\"\"https://stackoverflow.com/a/50746409\"\"\"\n",
    "    r = R * np.sqrt(random.uniform(0, 1))\n",
    "    theta = random.uniform(0,1) * 2 * np.pi\n",
    "    x = r * np.cos(theta)\n",
    "    y = r * np.sin(theta)\n",
    "    \n",
    "    return np.array([x, y])\n",
    "\n",
    "\n",
    "def sort_cw(points):\n",
    "    \"\"\"sort points in clocwise direction\"\"\"\n",
    "    \n",
    "    # find center\n",
    "    m = np.array([0.0, 0.0])\n",
    "    for p in points:\n",
    "        for j in range(2):\n",
    "            m[j] += p[j] / 4\n",
    "        \n",
    "    def angle(a):\n",
    "        # move to origin\n",
    "        a1 = np.copy(a) - m\n",
    "    \n",
    "        # compute angle\n",
    "        angle = np.rad2deg(np.arctan2(a1[0], a1[1]))\n",
    "        \n",
    "        # make angle span all 360 degs\n",
    "        return angle if angle >= 0 else 360 + angle\n",
    "    \n",
    "    return sorted(points, key=angle)\n",
    "    \n",
    "\n",
    "def triangle_area(a, b, c):\n",
    "    \"\"\"\n",
    "    This function calculates the area of a trinagle in determinant form\n",
    "    \n",
    "                 | x0 y0 1 |\n",
    "    Area = 0.5 * | x1 y1 1 |\n",
    "                 | x2 y2 1 |\n",
    "                 OR\n",
    "    Area = 0.5 * |x0 * (y1 - y2) + x1 * (y2 - y0) + x2 * (y0 - y1)|\n",
    "                 \n",
    "    from https://www.cuemath.com/geometry/area-of-triangle-in-determinant-form/\n",
    "    \"\"\"\n",
    "    \n",
    "    mat = np.array([\n",
    "        [a[0], a[1], 1],\n",
    "        [b[0], b[1], 1],\n",
    "        [c[0], c[1], 1],\n",
    "    ])\n",
    "    return 0.5 * np.abs(np.linalg.det(mat))\n",
    "\n",
    "\n",
    "def is_point_inside_triangle(triangle, point):\n",
    "    \"\"\"\n",
    "    Find area of the passed triangle (v0, v1, v2) and the\n",
    "    areas of the three triangles formed with the point\n",
    "    (p, v1, v2), (p, v0, v2), (p, v0, v1).\n",
    "    If the sum of these three is less than the first =>\n",
    "    point is inside of the triangle\n",
    "    \"\"\"\n",
    "    big_area = triangle_area(triangle[0], triangle[1], triangle[2])\n",
    "    area1 = triangle_area(point, triangle[1], triangle[2])\n",
    "    area2 = triangle_area(point, triangle[0], triangle[2])\n",
    "    area3 = triangle_area(point, triangle[0], triangle[1])\n",
    "    \n",
    "    return (area1 + area2 + area3) <= big_area\n",
    "\n",
    "\n",
    "count = 0 \n",
    "for _ in range(iters):\n",
    "    \n",
    "    # get random points\n",
    "    points = []\n",
    "    for i in range(4):\n",
    "        points.append(random_point_in_circle(1))\n",
    "    # sort them so that the quad is not self-intersecting\n",
    "    points = sort_cw(points)\n",
    "    \n",
    "    # for each triangle in quad,\n",
    "    # check whether the spare point lies inside\n",
    "    # if it does for at least one triangle => quad is concaved\n",
    "    for i in range(4):\n",
    "        triangle = [\n",
    "            points[i],\n",
    "            points[(i + 1) % 4],\n",
    "            points[(i + 2) % 4],\n",
    "        ]\n",
    "        spare = points[(i + 3) % 4]\n",
    "        if is_point_inside_triangle(triangle, spare):\n",
    "            count += 1\n",
    "            break\n",
    "    \n",
    "print(count/iters)"
   ]
  }
 ],
 "metadata": {
  "kernelspec": {
   "display_name": "Python 3 (ipykernel)",
   "language": "python",
   "name": "python3"
  },
  "language_info": {
   "codemirror_mode": {
    "name": "ipython",
    "version": 3
   },
   "file_extension": ".py",
   "mimetype": "text/x-python",
   "name": "python",
   "nbconvert_exporter": "python",
   "pygments_lexer": "ipython3",
   "version": "3.10.9"
  }
 },
 "nbformat": 4,
 "nbformat_minor": 5
}
